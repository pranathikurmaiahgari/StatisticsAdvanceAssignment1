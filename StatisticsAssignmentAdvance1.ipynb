{
 "cells": [
  {
   "cell_type": "markdown",
   "id": "a52275d8-cfe4-42ec-8b30-051288b3b12d",
   "metadata": {},
   "source": [
    "Q1. What is the Probability density function?"
   ]
  },
  {
   "cell_type": "markdown",
   "id": "734df288-625f-489e-be89-0333d5dcf3eb",
   "metadata": {},
   "source": [
    "The Probability Density Function (PDF) is a concept in probability and statistics that describes the probability distribution of a continuous random variable. In simple terms, it gives the likelihood of a random variable taking on a specific value within a certain range.\n",
    "\n",
    "The PDF is typically denoted as f(x), where \"x\" represents the value of the random variable. The key properties of a PDF are:\n",
    "\n",
    "1. Non-negativity: The PDF is always non-negative; that is, f(x) ≥ 0 for all values of x.\n",
    "\n",
    "2. Total area under the curve: The total area under the curve of the PDF over its entire range equals 1. This means that the sum of the probabilities of all possible outcomes is 1.\n",
    "\n",
    "3. Probability within an interval: The probability that the random variable falls within a specific interval [a, b] is given by the integral of the PDF over that interval:\n",
    "\n",
    "   P(a ≤ X ≤ b) = ∫[a, b] f(x) dx\n",
    "\n",
    "Where:\n",
    "- P(a ≤ X ≤ b) represents the probability that X falls within the interval [a, b].\n",
    "- ∫[a, b] represents the integral (area under the curve) of the PDF over the interval [a, b].\n",
    "- f(x) is the PDF itself.\n",
    "\n",
    "The PDF is a fundamental concept in continuous probability distributions, such as the normal distribution, exponential distribution, and many others. It allows statisticians and data analysts to model and analyze the behavior of continuous random variables, making it a crucial tool in various fields, including probability theory, statistics, and data science."
   ]
  },
  {
   "cell_type": "markdown",
   "id": "d7dd3929-bf03-4d71-b3ae-f2cbd102b24b",
   "metadata": {},
   "source": [
    "Q2. What are the types of Probability distribution?"
   ]
  },
  {
   "cell_type": "markdown",
   "id": "11def59c-6c41-4bb9-9ade-0d50938c4454",
   "metadata": {},
   "source": [
    "Probability distributions are mathematical functions that describe the likelihood of different outcomes in a random experiment or process. There are several types of probability distributions, each suited to different types of data and situations. Here are some of the most common types of probability distributions:\n",
    "\n",
    "1. **Discrete Probability Distributions:**\n",
    "   - **Bernoulli Distribution:** Models a random experiment with two possible outcomes, usually referred to as \"success\" and \"failure\" (e.g., coin flips, yes/no questions).\n",
    "   - **Binomial Distribution:** Describes the number of successes in a fixed number of independent Bernoulli trials (e.g., the number of heads in a series of coin flips).\n",
    "   - **Poisson Distribution:** Models the number of events occurring within a fixed interval of time or space when events happen at a constant rate (e.g., the number of customer arrivals at a store in an hour).\n",
    "\n",
    "2. **Continuous Probability Distributions:**\n",
    "   - **Normal Distribution (Gaussian Distribution):** Often referred to as the \"bell curve,\" it is widely used to model data in various fields due to its symmetrical, bell-shaped curve.\n",
    "   - **Uniform Distribution:** Represents a continuous random variable with equal probability across a specified range (e.g., a random number generator producing values between a and b with equal likelihood).\n",
    "   - **Exponential Distribution:** Models the time between events in a Poisson process, where events occur at a constant rate (e.g., the time between arrivals at a bus stop).\n",
    "   - **Lognormal Distribution:** Describes data that is skewed to the right and becomes approximately normal when transformed logarithmically.\n",
    "   - **Gamma Distribution:** Extends the exponential distribution to represent the time until k events occur in a Poisson process.\n",
    "   - **Weibull Distribution:** Used to model the time until a specific type of failure occurs, often in reliability analysis.\n",
    "   - **Cauchy Distribution:** Known for its heavy tails and lack of finite moments; it does not have a well-defined mean or variance.\n",
    "\n",
    "3. **Multinomial Distribution:** Generalizes the binomial distribution to more than two categories or outcomes (e.g., rolling a six-sided die).\n",
    "\n",
    "4. **Hypergeometric Distribution:** Models the probability of success in a sample drawn without replacement from a finite population.\n",
    "\n",
    "5. **Negative Binomial Distribution:** Describes the number of trials required until a specified number of failures occur in a sequence of independent Bernoulli trials.\n",
    "\n",
    "6. **Chi-Square Distribution:** Arises in hypothesis testing and confidence interval estimation, particularly in the context of the chi-square test of independence.\n",
    "\n",
    "7. **Student's t-Distribution:** Used in hypothesis testing for small sample sizes when population standard deviation is unknown.\n",
    "\n",
    "8. **F-Distribution:** Appears in statistical tests involving the ratio of variances, such as analysis of variance (ANOVA).\n",
    "\n",
    "These are some of the most fundamental probability distributions, but there are many others designed to model specific scenarios and types of data. The choice of distribution depends on the nature of the data and the problem being analyzed in statistics and probability theory."
   ]
  },
  {
   "cell_type": "markdown",
   "id": "bb86fd5a-bb05-4dbc-a6dd-1d63dfb2753d",
   "metadata": {},
   "source": [
    "Q3. Write a Python function to calculate the probability density function of a normal distribution with\n",
    "given mean and standard deviation at a given point."
   ]
  },
  {
   "cell_type": "code",
   "execution_count": 3,
   "id": "644b9d64-0ba6-4864-97e8-e11c34c8970c",
   "metadata": {},
   "outputs": [],
   "source": [
    "import scipy.stats"
   ]
  },
  {
   "cell_type": "code",
   "execution_count": 4,
   "id": "8577854a-fbfb-4690-b5bd-1d2e27d55a0e",
   "metadata": {},
   "outputs": [],
   "source": [
    "def pdf(x,mean,std_value):\n",
    "    pdf=scipy.stats.norm.pdf(x,loc=mean,scale=std_value)\n",
    "    return pdf"
   ]
  },
  {
   "cell_type": "code",
   "execution_count": 5,
   "id": "18420dd3-b461-4fcf-b70f-197ec3e6ade0",
   "metadata": {},
   "outputs": [
    {
     "data": {
      "text/plain": [
       "3.88830293419986e-13"
      ]
     },
     "execution_count": 5,
     "metadata": {},
     "output_type": "execute_result"
    }
   ],
   "source": [
    "pdf(1,20,2.6)"
   ]
  },
  {
   "cell_type": "markdown",
   "id": "1cbb3959-53c0-41de-baae-eeae4d6e7920",
   "metadata": {},
   "source": [
    "Q4. What are the properties of Binomial distribution? Give two examples of events where binomial\n",
    "distribution can be applied."
   ]
  },
  {
   "cell_type": "markdown",
   "id": "96a0052b-af99-48c2-b3bf-1272b44b49f3",
   "metadata": {},
   "source": [
    "The Binomial distribution is a discrete probability distribution that models the number of successes in a fixed number of independent Bernoulli trials (experiments) where each trial can result in one of two possible outcomes: success or failure. The Binomial distribution has several key properties:\n",
    "\n",
    "1. **Two Outcomes:** Each trial in a Binomial experiment has exactly two possible outcomes: success (usually denoted as \"1\") and failure (usually denoted as \"0\").\n",
    "\n",
    "2. **Fixed Number of Trials (n):** The number of trials (n) is fixed in advance, and each trial is independent of the others.\n",
    "\n",
    "3. **Constant Probability of Success (p):** The probability of success (p) is constant for each trial. In other words, the probability of success remains the same from trial to trial.\n",
    "\n",
    "4. **Discreteness:** The Binomial distribution is used for discrete data, as it deals with counting the number of successes, which must be a whole number.\n",
    "\n",
    "5. **Notation:** The Binomial distribution is often denoted as B(n, p), where \"n\" is the number of trials, and \"p\" is the probability of success in each trial.\n",
    "\n",
    "6. **Probability Mass Function (PMF):** The probability mass function of the Binomial distribution gives the probability of obtaining exactly \"k\" successes in \"n\" trials and is defined as:\n",
    "   \n",
    "   P(X = k) = (n choose k) * p^k * (1 - p)^(n - k)\n",
    "\n",
    "   Where:\n",
    "   - \"X\" is the random variable representing the number of successes.\n",
    "   - \"k\" is the number of successes.\n",
    "   - \"(n choose k)\" is the binomial coefficient, which is the number of ways to choose \"k\" successes out of \"n\" trials.\n",
    "   - \"p\" is the probability of success in a single trial.\n",
    "   - \"(1 - p)\" is the probability of failure in a single trial.\n",
    "\n",
    "Two common examples of events where the Binomial distribution can be applied are:\n",
    "\n",
    "1. **Coin Flips:** When flipping a fair coin (where the probability of getting heads, for example, is 0.5) a fixed number of times (n), you can use a Binomial distribution to calculate the probability of getting a specific number of heads.\n",
    "\n",
    "2. **Quality Control:** In a manufacturing process, you can use the Binomial distribution to model the probability of a certain number of defective items in a random sample of products, assuming that the probability of a product being defective is constant.\n",
    "\n",
    "In both of these examples, you have a series of independent trials (coin flips or product inspections), each with two possible outcomes (success or failure), and you want to calculate the probability of a specific number of successes (e.g., the number of heads or the number of defective items) in a fixed number of trials."
   ]
  },
  {
   "cell_type": "markdown",
   "id": "5fa94584-3a9d-4dba-b96b-ff421ab6f1e0",
   "metadata": {},
   "source": [
    "Q5. Generate a random sample of size 1000 from a binomial distribution with probability of success 0.4\n",
    "and plot a histogram of the results using matplotlib."
   ]
  },
  {
   "cell_type": "code",
   "execution_count": 6,
   "id": "7cc115d5-ec0f-40e6-a430-f6e23693111b",
   "metadata": {},
   "outputs": [
    {
     "data": {
      "image/png": "[encoded data removed]",
      "text/plain": [
       "<Figure size 640x480 with 1 Axes>"
      ]
     },
     "metadata": {},
     "output_type": "display_data"
    }
   ],
   "source": [
    "import numpy as np\n",
    "import matplotlib.pyplot as plt\n",
    "\n",
    "# Set the parameters\n",
    "n = 1000  # Sample size\n",
    "p = 0.4   # Probability of success\n",
    "\n",
    "# Generate a random sample from the binomial distribution\n",
    "random_sample = np.random.binomial(1, p, n)  # \"1\" for success, \"0\" for failure\n",
    "\n",
    "# Plot a histogram\n",
    "plt.hist(random_sample, bins=2, edgecolor='k', alpha=0.7)\n",
    "plt.xlabel('Success (1) or Failure (0)')\n",
    "plt.ylabel('Frequency')\n",
    "plt.title('Binomial Distribution Histogram')\n",
    "plt.xticks([0, 1], ['Failure', 'Success'])\n",
    "plt.show()\n"
   ]
  },
  {
   "cell_type": "markdown",
   "id": "2ecdd7d9-6960-46cb-8972-0dc1c0906247",
   "metadata": {},
   "source": [
    "Q6. Write a Python function to calculate the cumulative distribution function of a Poisson distribution\n",
    "with given mean at a given point."
   ]
  },
  {
   "cell_type": "code",
   "execution_count": 12,
   "id": "c6772ff5-3fbf-4683-b85f-7912da66deed",
   "metadata": {},
   "outputs": [],
   "source": [
    "import scipy.stats\n",
    "def cdfValue(x,mean):\n",
    "    cdfValue = scipy.stats.poisson.cdf(x,mu = mean)\n",
    "    return cdfValue"
   ]
  },
  {
   "cell_type": "code",
   "execution_count": 13,
   "id": "bd84df34-098b-4133-892a-12e33cfdd89f",
   "metadata": {},
   "outputs": [
    {
     "data": {
      "text/plain": [
       "5.355926124581609e-15"
      ]
     },
     "execution_count": 13,
     "metadata": {},
     "output_type": "execute_result"
    }
   ],
   "source": [
    "cdfValue(4,45)"
   ]
  },
  {
   "cell_type": "markdown",
   "id": "7de0ae56-6ac8-4534-805e-1fa9df316dab",
   "metadata": {},
   "source": [
    "Q7. How Binomial distribution different from Poisson distribution?"
   ]
  },
  {
   "cell_type": "markdown",
   "id": "5e111be4-3584-4ce2-a12a-5a5955ad3124",
   "metadata": {},
   "source": [
    "The Binomial distribution and the Poisson distribution are both probability distributions used in statistics to model different types of random events. While they share some similarities, they are distinct and differ in several key ways:\n",
    "\n",
    "1. **Nature of Events:**\n",
    "   - **Binomial Distribution:** The Binomial distribution models a fixed number (n) of independent Bernoulli trials, where each trial can result in one of two possible outcomes: success or failure (usually denoted as 1 or 0). It is used when you have a known number of trials and want to calculate the probability of a specific number of successes.\n",
    "   - **Poisson Distribution:** The Poisson distribution models the number of events occurring within a fixed interval of time or space when events happen at a constant rate. It is used when the events are rare, and the focus is on the number of events occurring in a continuous or discrete time period.\n",
    "\n",
    "2. **Parameters:**\n",
    "   - **Binomial Distribution:** The Binomial distribution is characterized by two parameters: the number of trials (n) and the probability of success (p) in each trial.\n",
    "   - **Poisson Distribution:** The Poisson distribution is characterized by a single parameter: the average rate of event occurrences (often denoted as λ, lambda).\n",
    "\n",
    "3. **Count vs. Proportion:**\n",
    "   - **Binomial Distribution:** It deals with counting the number of successes (e.g., the number of heads in coin flips) out of a fixed number of trials. The random variable follows a discrete countable distribution.\n",
    "   - **Poisson Distribution:** It deals with counting the number of events occurring in a fixed interval of time or space. The random variable also follows a discrete countable distribution.\n",
    "\n",
    "4. **Conditions:**\n",
    "   - **Binomial Distribution:** Applicable when the number of trials is fixed, and each trial is independent with the same probability of success. It is used for situations where events are either a success or a failure.\n",
    "   - **Poisson Distribution:** Applicable when events occur independently over time or space, and the rate of occurrence is relatively low but constant. It is used for modeling rare events.\n",
    "\n",
    "5. **Shape:**\n",
    "   - **Binomial Distribution:** The shape of the Binomial distribution can vary, but it tends to be bell-shaped and symmetrical when the number of trials is sufficiently large. It can approximate a normal distribution.\n",
    "   - **Poisson Distribution:** The Poisson distribution is skewed to the right and is typically positively skewed. It becomes more symmetric as the rate parameter λ increases.\n",
    "\n",
    "In summary, while both the Binomial and Poisson distributions deal with counting events, they are used in different contexts and have different parameterizations. The choice between them depends on the nature of the data and the specific problem you are trying to model or analyze. The Binomial distribution is suitable for scenarios with a fixed number of trials and known success probability, while the Poisson distribution is suitable for modeling rare events occurring over time or space with a known average rate."
   ]
  },
  {
   "cell_type": "markdown",
   "id": "dd8b7a1e-5225-422c-9c5b-bc60706bc76c",
   "metadata": {},
   "source": [
    "Q8. Generate a random sample of size 1000 from a Poisson distribution with mean 5 and calculate the\n",
    "sample mean and variance."
   ]
  },
  {
   "cell_type": "code",
   "execution_count": 14,
   "id": "7099f995-6d20-4291-8bee-7931033c7909",
   "metadata": {},
   "outputs": [
    {
     "name": "stdout",
     "output_type": "stream",
     "text": [
      "Sample Mean: 5.135\n",
      "Sample Variance: 4.892774999999999\n"
     ]
    }
   ],
   "source": [
    "import numpy as np\n",
    "\n",
    "# Set the parameters\n",
    "mean = 5  # Mean of the Poisson distribution\n",
    "sample_size = 1000  # Size of the random sample\n",
    "\n",
    "# Generate the random sample\n",
    "random_sample = np.random.poisson(mean, sample_size)\n",
    "\n",
    "# Calculate the sample mean and variance\n",
    "sample_mean = np.mean(random_sample)\n",
    "sample_variance = np.var(random_sample)\n",
    "\n",
    "# Print the results\n",
    "print(f\"Sample Mean: {sample_mean}\")\n",
    "print(f\"Sample Variance: {sample_variance}\")\n"
   ]
  },
  {
   "cell_type": "markdown",
   "id": "70f85102-9bfb-4c46-a692-0fb8a60ce082",
   "metadata": {},
   "source": [
    "Q9. How mean and variance are related in Binomial distribution and Poisson distribution?"
   ]
  },
  {
   "cell_type": "markdown",
   "id": "8516c08f-18f1-4bcd-8c7e-4d4c558c9feb",
   "metadata": {},
   "source": [
    "In both the Binomial distribution and the Poisson distribution, the mean (expected value) and variance are closely related, but their specific relationships differ due to the nature of these distributions:\n",
    "\n",
    "**Binomial Distribution:**\n",
    "- In a Binomial distribution with parameters \"n\" (number of trials) and \"p\" (probability of success in each trial), the mean (μ) and variance (σ²) are related as follows:\n",
    "  - Mean (μ) = n * p\n",
    "  - Variance (σ²) = n * p * (1 - p)\n",
    "\n",
    "- The variance of a Binomial distribution depends on both the number of trials (n) and the probability of success (p). As the probability of success (p) increases or decreases while keeping the number of trials (n) constant, the variance changes accordingly.\n",
    "\n",
    "- The relationship between the mean and variance in a Binomial distribution shows that the spread (variability) of the distribution depends on the product of \"n\" and \"p,\" and it is maximized when p = 0.5.\n",
    "\n",
    "**Poisson Distribution:**\n",
    "- In a Poisson distribution with parameter \"λ\" (average rate of event occurrences), the mean (μ) and variance (σ²) are related as follows:\n",
    "  - Mean (μ) = λ\n",
    "  - Variance (σ²) = λ\n",
    "\n",
    "- Unlike the Binomial distribution, the variance of a Poisson distribution is equal to its mean, and it does not depend on any additional parameters. This property is a distinctive characteristic of the Poisson distribution.\n",
    "\n",
    "- In a Poisson distribution, both the mean and variance are determined solely by the average rate of event occurrences (λ). If λ is known, you can immediately calculate both the mean and variance with the same value.\n",
    "\n",
    "In summary, in a Binomial distribution, the variance depends on both the number of trials and the probability of success, while in a Poisson distribution, the variance is solely determined by the mean rate of events. The mean and variance are equal in a Poisson distribution, whereas in a Binomial distribution, the variance is a function of both the mean and the probability of success."
   ]
  },
  {
   "cell_type": "code",
   "execution_count": null,
   "id": "65b735d1-a61a-41c2-8d15-79bf97554729",
   "metadata": {},
   "outputs": [],
   "source": []
  }
 ],
 "metadata": {
  "kernelspec": {
   "display_name": "Python 3 (ipykernel)",
   "language": "python",
   "name": "python3"
  },
  "language_info": {
   "codemirror_mode": {
    "name": "ipython",
    "version": 3
   },
   "file_extension": ".py",
   "mimetype": "text/x-python",
   "name": "python",
   "nbconvert_exporter": "python",
   "pygments_lexer": "ipython3",
   "version": "3.10.8"
  }
 },
 "nbformat": 4,
 "nbformat_minor": 5
}
